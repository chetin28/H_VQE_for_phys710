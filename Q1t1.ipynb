{
 "cells": [
  {
   "cell_type": "code",
   "execution_count": 1,
   "id": "914b4873",
   "metadata": {},
   "outputs": [],
   "source": [
    "## cetin ilhan kaya phys710 exam Question 1 Task 1\n",
    "\n",
    "import pennylane as qml\n",
    "from pennylane import numpy as np\n",
    "import matplotlib.pyplot as plt\n",
    "\n",
    "dev = qml.device('default.qubit', wires=1)"
   ]
  },
  {
   "cell_type": "code",
   "execution_count": 2,
   "id": "b421d735",
   "metadata": {},
   "outputs": [],
   "source": [
    "# variational ansatz\n",
    "def circuit(params, wires=0):\n",
    "    qml.RX(params[0], wires=wires)\n",
    "    qml.RY(params[1], wires=wires)\n",
    "    "
   ]
  },
  {
   "cell_type": "code",
   "execution_count": 3,
   "id": "ed7339e4",
   "metadata": {},
   "outputs": [],
   "source": [
    "# define single-qubit hamiltonian\n",
    "coeffs = [1,1]\n",
    "obs = [qml.PauliX(0), qml.PauliZ(0)]\n",
    "H = qml.Hamiltonian(coeffs, obs) #$ H = \\sigma_x + \\sigma_z $\n",
    "\n",
    "# define cost function\n",
    "@qml.qnode(dev)\n",
    "def cost_funct(params):\n",
    "    circuit(params)\n",
    "    return qml.expval(H)"
   ]
  },
  {
   "cell_type": "code",
   "execution_count": 4,
   "id": "bd25ff74",
   "metadata": {},
   "outputs": [
    {
     "name": "stdout",
     "output_type": "stream",
     "text": [
      "Parameters: [3.97507603 3.00854038]\n"
     ]
    }
   ],
   "source": [
    "# fix initial parameters for comparison\n",
    "init_params = np.array([3.97507603, 3.00854038], requires_grad=True)\n",
    "print(\"Parameters:\", init_params)\n",
    "\n",
    "max_iter = 500\n",
    "conv_tol = 1e-06\n",
    "step_size = 0.01"
   ]
  },
  {
   "cell_type": "code",
   "execution_count": 5,
   "id": "a2201768",
   "metadata": {
    "scrolled": true
   },
   "outputs": [
    {
     "name": "stdout",
     "output_type": "stream",
     "text": [
      "step = 0, cost function = 0.56743624\n",
      "step = 10, cost function = 0.47335099\n",
      "step = 20, cost function = 0.38709233\n",
      "step = 30, cost function = 0.31048277\n",
      "step = 40, cost function = 0.24420954\n",
      "step = 50, cost function = 0.18798179\n",
      "step = 60, cost function = 0.14079686\n",
      "step = 70, cost function = 0.10121563\n",
      "step = 80, cost function = 0.06758408\n",
      "step = 90, cost function = 0.03817867\n",
      "step = 100, cost function = 0.01128048\n",
      "step = 110, cost function = -0.01480376\n",
      "step = 120, cost function = -0.04175219\n",
      "step = 130, cost function = -0.07124890\n",
      "step = 140, cost function = -0.10499504\n",
      "step = 150, cost function = -0.14468954\n",
      "step = 160, cost function = -0.19195848\n",
      "step = 170, cost function = -0.24821576\n",
      "step = 180, cost function = -0.31444953\n",
      "step = 190, cost function = -0.39095468\n",
      "step = 200, cost function = -0.47706980\n",
      "step = 210, cost function = -0.57101432\n",
      "step = 220, cost function = -0.66993027\n",
      "step = 230, cost function = -0.77018594\n",
      "step = 240, cost function = -0.86789981\n",
      "step = 250, cost function = -0.95953968\n",
      "step = 260, cost function = -1.04241317\n",
      "step = 270, cost function = -1.11491820\n",
      "step = 280, cost function = -1.17653061\n",
      "step = 290, cost function = -1.22760014\n",
      "step = 300, cost function = -1.26906291\n",
      "step = 310, cost function = -1.30216248\n",
      "step = 320, cost function = -1.32823089\n",
      "step = 330, cost function = -1.34854372\n",
      "step = 340, cost function = -1.36424033\n",
      "step = 350, cost function = -1.37629180\n",
      "step = 360, cost function = -1.38549883\n",
      "step = 370, cost function = -1.39250615\n",
      "step = 380, cost function = -1.39782393\n",
      "step = 390, cost function = -1.40185068\n",
      "step = 400, cost function = -1.40489478\n",
      "step = 410, cost function = -1.40719313\n",
      "step = 420, cost function = -1.40892679\n",
      "step = 430, cost function = -1.41023355\n",
      "step = 440, cost function = -1.41121801\n",
      "step = 450, cost function = -1.41195935\n",
      "step = 460, cost function = -1.41251745\n",
      "step = 470, cost function = -1.41293750\n",
      "step = 480, cost function = -1.41325360\n",
      "step = 490, cost function = -1.41349143\n",
      "\n",
      "final value of the cost function = -1.41365468\n",
      "\n",
      "optimal value of the first circuit parameter = 3.16078631484803\n",
      "\n",
      "optimal value of the second circuit parameter = 0.805943042402478\n"
     ]
    }
   ],
   "source": [
    "# gradient-descent optimizer\n",
    "gde_optimizer = qml.GradientDescentOptimizer(stepsize=step_size)\n",
    "theta_gde = init_params\n",
    "gde_cost = [cost_funct(theta_gde)]\n",
    "angle_gde = [theta_gde]\n",
    "for i in range(max_iter):\n",
    "    theta_gde, last_cost = gde_optimizer.step_and_cost(cost_funct, theta_gde)\n",
    "    gde_cost.append(cost_funct(theta_gde))\n",
    "    angle_gde.append(theta_gde)\n",
    "    \n",
    "    conv = np.abs(gde_cost[-1] - last_cost)\n",
    "    if i%10==0:\n",
    "        print(f'step = {i}, cost function = {gde_cost[-1]:.8f}')\n",
    "    if conv <= conv_tol:\n",
    "        break\n",
    "\n",
    "print('\\n' f'final value of the cost function = {gde_cost[-1]:.8f}')\n",
    "print('\\n' f'optimal value of the first circuit parameter = ' + str(angle_gde[-1][0]))\n",
    "print('\\n' f'optimal value of the second circuit parameter = ' + str(angle_gde[-1][1]))"
   ]
  },
  {
   "cell_type": "code",
   "execution_count": 6,
   "id": "2efaa1c3",
   "metadata": {},
   "outputs": [
    {
     "name": "stdout",
     "output_type": "stream",
     "text": [
      "step = 0, cost function = 0.51052556\n",
      "step = 10, cost function = -0.25576311\n",
      "step = 20, cost function = -0.90729965\n",
      "step = 30, cost function = -1.23320451\n",
      "step = 40, cost function = -1.35504644\n",
      "step = 50, cost function = -1.39547232\n",
      "step = 60, cost function = -1.40833787\n",
      "step = 70, cost function = -1.41237741\n",
      "step = 80, cost function = -1.41364035\n",
      "step = 90, cost function = -1.41403467\n",
      "step = 100, cost function = -1.41415774\n",
      "step = 110, cost function = -1.41419614\n",
      "\n",
      "final value of the cost function = -1.41420585\n",
      "\n",
      "optimal value of the first circuit parameter = 3.1443664622443213\n",
      "\n",
      "optimal value of the second circuit parameter = 0.7871891271584841\n"
     ]
    }
   ],
   "source": [
    "# QNG\n",
    "qng_optimizer = qml.QNGOptimizer(stepsize=step_size, approx='block-diag')\n",
    "theta_qng = init_params\n",
    "qng_cost = [cost_funct(theta_qng)]\n",
    "angle_qng = [theta_qng]\n",
    "for i in range(max_iter):\n",
    "    theta_qng, last_cost = qng_optimizer.step_and_cost(cost_funct, theta_qng)\n",
    "    qng_cost.append(cost_funct(theta_qng))\n",
    "    angle_qng.append(theta_qng)\n",
    "    \n",
    "    conv = np.abs(qng_cost[-1] - last_cost)\n",
    "    if i%10==0:\n",
    "        print(f'step = {i}, cost function = {qng_cost[-1]:.8f}')\n",
    "    if conv <= conv_tol:\n",
    "        break\n",
    "print('\\n' f'final value of the cost function = {qng_cost[-1]:.8f}')\n",
    "print('\\n' f'optimal value of the first circuit parameter = ' + str(angle_qng[-1][0]))\n",
    "print('\\n' f'optimal value of the second circuit parameter = ' + str(angle_qng[-1][1]))"
   ]
  },
  {
   "cell_type": "code",
   "execution_count": 7,
   "id": "dbbf8b96",
   "metadata": {},
   "outputs": [
    {
     "data": {
      "image/png": "[encoded data removed]",
      "text/plain": [
       "<Figure size 640x480 with 1 Axes>"
      ]
     },
     "metadata": {},
     "output_type": "display_data"
    }
   ],
   "source": [
    "def plot(gde_cost):\n",
    "    plt.plot(gde_cost, label='cost function of GradientDescentOptimizer')\n",
    "    plt.plot(qng_cost, label='cost function of QNG')\n",
    "    plt.xlabel('epoch')\n",
    "    plt.ylabel('cost')\n",
    "    plt.legend()\n",
    "    plt.grid(True)\n",
    "plot(gde_cost)"
   ]
  }
 ],
 "metadata": {
  "kernelspec": {
   "display_name": "Python 3 (ipykernel)",
   "language": "python",
   "name": "python3"
  },
  "language_info": {
   "codemirror_mode": {
    "name": "ipython",
    "version": 3
   },
   "file_extension": ".py",
   "mimetype": "text/x-python",
   "name": "python",
   "nbconvert_exporter": "python",
   "pygments_lexer": "ipython3",
   "version": "3.12.3"
  }
 },
 "nbformat": 4,
 "nbformat_minor": 5
}
